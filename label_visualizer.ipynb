{
 "cells": [
  {
   "cell_type": "code",
   "execution_count": 34,
   "metadata": {},
   "outputs": [],
   "source": [
    "import numpy as np\n",
    "from Batchizer import Batchizer\n",
    "# from PIL import Image, ImageDraw\n",
    "import matplotlib.pyplot as plt\n",
    "import matplotlib.image as mpimg"
   ]
  },
  {
   "cell_type": "code",
   "execution_count": null,
   "metadata": {},
   "outputs": [],
   "source": [
    "train_batch = Batchizer('data/train/', 32, 'train')"
   ]
  },
  {
   "cell_type": "code",
   "execution_count": null,
   "metadata": {},
   "outputs": [],
   "source": [
    "def draw_center(img, label):\n",
    "    img = Image.open(img)\n",
    "    img = np.array(img)\n",
    "    x = int(np.float32(label[0]))\n",
    "    y = int(np.float32(label[1]))\n",
    "    print(\"{0}, {1}\".format(x,y))\n",
    "    img[y-2:y+2,x-2:x+2] = 255 \n",
    "    imgplot = plt.imshow(img,  cmap='gray')"
   ]
  },
  {
   "cell_type": "code",
   "execution_count": null,
   "metadata": {},
   "outputs": [],
   "source": [
    "batches = train_batch.batches()\n",
    "for x, y in batches:\n",
    "    img = x[1]\n",
    "    img = np.squeeze(img)\n",
    "    label = y[1]\n",
    "    draw_center(img,label)\n",
    "    break"
   ]
  },
  {
   "cell_type": "code",
   "execution_count": 11,
   "metadata": {},
   "outputs": [],
   "source": [
    "from PIL import Image\n",
    "from xml.etree import ElementTree"
   ]
  },
  {
   "cell_type": "code",
   "execution_count": 12,
   "metadata": {},
   "outputs": [
    {
     "name": "stdout",
     "output_type": "stream",
     "text": [
      "<class 'str'>\n"
     ]
    }
   ],
   "source": [
    "img_url = 'Original-data/supermarkt/2/100in.bmp'\n",
    "xml_url = 'Original-data/supermarkt/2/100gt.xml'\n",
    "e = ElementTree.parse(xml_url).getroot()\n",
    "x = e[0].text\n",
    "y = e[1].text\n",
    "print(type(np.x))"
   ]
  },
  {
   "cell_type": "code",
   "execution_count": null,
   "metadata": {},
   "outputs": [],
   "source": [
    "draw_center(img_url, label)"
   ]
  },
  {
   "cell_type": "code",
   "execution_count": null,
   "metadata": {},
   "outputs": [],
   "source": [
    "img[y-2:y+2,x-2:x+2] = 255 \n",
    "imgplot = plt.imshow(img,  cmap='gray')"
   ]
  },
  {
   "cell_type": "code",
   "execution_count": 1,
   "metadata": {},
   "outputs": [],
   "source": [
    "import os\n",
    "from random import shuffle\n",
    "from PIL import Image\n",
    "import numpy as np\n",
    "\n",
    "\n",
    "class Batchizer(object):\n",
    "    \"\"\"\n",
    "    list the images filename and read labels.csv,\n",
    "    shuffle them at each epoch and yield `batch_size` of images\n",
    "    \"\"\"\n",
    "\n",
    "    def __init__(self, root_path, batch_size, setname):\n",
    "        self.batch_size = batch_size\n",
    "\n",
    "        if not os.path.isdir(root_path):\n",
    "            raise FileNotFoundError\n",
    "\n",
    "        part_folders = [os.path.join(root_path, f)\n",
    "                        for f in os.listdir(root_path)\n",
    "                        if os.path.isdir(os.path.join(root_path, f))]\n",
    "\n",
    "        self.images_fn = []\n",
    "        for p in part_folders:\n",
    "            self.images_fn.extend([os.path.join(p, f)\n",
    "                                   for f in os.listdir(p)\n",
    "                                   if f.endswith(\".jpg\")])\n",
    "\n",
    "        # sort the list file name to match the labels\n",
    "        self.images_fn = sorted(self.images_fn)\n",
    "\n",
    "        labels_fn = setname+\"_labels.csv\"\n",
    "        labels_path = os.path.join(root_path, labels_fn)\n",
    "\n",
    "        if not os.path.isfile(labels_path):\n",
    "            raise FileNotFoundError\n",
    "\n",
    "        self.labels = []\n",
    "        with open(labels_path, \"r\") as f:\n",
    "            for line in f:\n",
    "                #  values: [ line #, x, y, w, h , a]\n",
    "                values = line.strip().split(\",\")\n",
    "                self.labels.append([values[1],  # x\n",
    "                                    values[2],  # y\n",
    "                                    values[3],  # w\n",
    "                                    values[4],  # h\n",
    "                                    values[5]])  # a\n",
    "\n",
    "        self.n_batches = len(self.images_fn)/self.batch_size\n",
    "        img = Image.open(self.images_fn[555])\n",
    "        img = np.array(img)\n",
    "        label = self.labels[555]\n",
    "        x = int(np.float32(label[0]))\n",
    "        y = int(np.float32(label[1]))\n",
    "        print(\"{0}, {1}\".format(x,y))\n",
    "        img[y-2:y+2,x-2:x+2] = 255 \n",
    "        imgplot = plt.imshow(img,  cmap='gray')\n",
    "\n",
    "    def __shuffler(self):\n",
    "        data = list(zip(self.images_fn, self.labels))\n",
    "        shuffle(data)\n",
    "        self.images_fn, self.labels = zip(*data)\n",
    "\n",
    "    def batches(self):\n",
    "        # before each epoch, shuffle data\n",
    "#         self.__shuffler()\n",
    "\n",
    "        images = []\n",
    "        labels = []\n",
    "        for i, fn in enumerate(self.images_fn):\n",
    "            image = Image.open(fn, 'r')\n",
    "            # todo: add noise here\n",
    "            label = self.labels[i]\n",
    "            images.append(np.expand_dims(np.array(image), -1))\n",
    "            labels.append(label)\n",
    "            if len(images) == self.batch_size:\n",
    "                yield images, labels\n",
    "                images = []\n",
    "                labels = []\n",
    "\n",
    "        # just yield reminded data\n",
    "        if len(images) > 0:\n",
    "            yield images, labels"
   ]
  },
  {
   "cell_type": "code",
   "execution_count": 3,
   "metadata": {},
   "outputs": [
    {
     "name": "stdout",
     "output_type": "stream",
     "text": [
      "131, 69\n"
     ]
    },
    {
     "data": {
      "image/png": "[encoded data removed]",
      "text/plain": [
       "<matplotlib.figure.Figure at 0x7f1e95568a58>"
      ]
     },
     "metadata": {},
     "output_type": "display_data"
    }
   ],
   "source": [
    "import matplotlib.pyplot as plt\n",
    "bat = Batchizer('data/train/', 32, 'train')"
   ]
  },
  {
   "cell_type": "code",
   "execution_count": 4,
   "metadata": {},
   "outputs": [],
   "source": [
    "import numpy as np"
   ]
  },
  {
   "cell_type": "code",
   "execution_count": 15,
   "metadata": {},
   "outputs": [
    {
     "name": "stdout",
     "output_type": "stream",
     "text": [
      "305525\n",
      "81473\n"
     ]
    },
    {
     "ename": "NameError",
     "evalue": "name 'data' is not defined",
     "output_type": "error",
     "traceback": [
      "\u001b[0;31m------------------------------------------------------\u001b[0m",
      "\u001b[0;31mNameError\u001b[0m            Traceback (most recent call last)",
      "\u001b[0;32m<ipython-input-15-1c8c457ad5a5>\u001b[0m in \u001b[0;36m<module>\u001b[0;34m()\u001b[0m\n\u001b[1;32m      4\u001b[0m \u001b[0mvalid_len\u001b[0m \u001b[0;34m=\u001b[0m \u001b[0mint\u001b[0m\u001b[0;34m(\u001b[0m\u001b[0mnp\u001b[0m\u001b[0;34m.\u001b[0m\u001b[0mround\u001b[0m\u001b[0;34m(\u001b[0m\u001b[0mdata_len\u001b[0m \u001b[0;34m*\u001b[0m \u001b[0;36m0.2\u001b[0m\u001b[0;34m)\u001b[0m\u001b[0;34m)\u001b[0m\u001b[0;34m\u001b[0m\u001b[0m\n\u001b[1;32m      5\u001b[0m \u001b[0mprint\u001b[0m\u001b[0;34m(\u001b[0m\u001b[0mvalid_len\u001b[0m\u001b[0;34m)\u001b[0m\u001b[0;34m\u001b[0m\u001b[0m\n\u001b[0;32m----> 6\u001b[0;31m \u001b[0mtrain_data\u001b[0m \u001b[0;34m=\u001b[0m \u001b[0mdata\u001b[0m\u001b[0;34m[\u001b[0m\u001b[0;34m:\u001b[0m\u001b[0mtrain_len\u001b[0m\u001b[0;34m]\u001b[0m\u001b[0;34m\u001b[0m\u001b[0m\n\u001b[0m\u001b[1;32m      7\u001b[0m \u001b[0mvalid_data\u001b[0m \u001b[0;34m=\u001b[0m \u001b[0mdata\u001b[0m\u001b[0;34m[\u001b[0m\u001b[0mtrain_len\u001b[0m\u001b[0;34m:\u001b[0m\u001b[0mtrain_len\u001b[0m\u001b[0;34m+\u001b[0m\u001b[0mvalid_len\u001b[0m\u001b[0;34m]\u001b[0m\u001b[0;34m\u001b[0m\u001b[0m\n\u001b[1;32m      8\u001b[0m \u001b[0mtest_data\u001b[0m \u001b[0;34m=\u001b[0m \u001b[0mdata\u001b[0m\u001b[0;34m[\u001b[0m\u001b[0mtrain_len\u001b[0m\u001b[0;34m+\u001b[0m\u001b[0mvalid_len\u001b[0m\u001b[0;34m:\u001b[0m\u001b[0;34m]\u001b[0m\u001b[0;34m\u001b[0m\u001b[0m\n",
      "\u001b[0;31mNameError\u001b[0m: name 'data' is not defined"
     ]
    }
   ],
   "source": [
    "data_len = 407366\n",
    "train_len = int(np.ceil(data_len * 0.75))\n",
    "print(train_len)\n",
    "valid_len = int(np.round(data_len * 0.2))\n",
    "print(valid_len)\n",
    "train_data = data[:train_len]\n",
    "valid_data = data[train_len:train_len+valid_len]\n",
    "test_data = data[train_len+valid_len:]\n",
    "\n",
    "assert data_len == (len(train_data)+len(valid_data)+len(test_data))"
   ]
  },
  {
   "cell_type": "code",
   "execution_count": 21,
   "metadata": {},
   "outputs": [
    {
     "name": "stdout",
     "output_type": "stream",
     "text": [
      "[[[55  4 88 55]\n",
      "  [33 60 84 99]]]\n"
     ]
    }
   ],
   "source": [
    "a = np.random.randint(0,high=100, size=(4,5,4))\n",
    "print(a[1:2,1:3,...])"
   ]
  },
  {
   "cell_type": "code",
   "execution_count": 23,
   "metadata": {},
   "outputs": [],
   "source": [
    "from tqdm import tqdm\n",
    "import time"
   ]
  },
  {
   "cell_type": "code",
   "execution_count": 33,
   "metadata": {},
   "outputs": [
    {
     "name": "stderr",
     "output_type": "stream",
     "text": [
      "akbar:5720: 100%|██████████| 10/10 [00:04<00:00,  2.05it/s]\n"
     ]
    }
   ],
   "source": [
    "text = [\"ali\", \"reza\", \"sohrab\", \"asghar\", \"akbar\", \"hasan\", \"wolfi\",  \"sohrab\", \"asghar\", \"akbar\"]\n",
    "with tqdm(total=10) as pbar:\n",
    "    for i in range(10):\n",
    "        rand = np.random.randint(0,10000)\n",
    "        pbar.set_description(text[i] + \":\"+ str(rand))\n",
    "        pbar.update(1)\n",
    "        time.sleep(0.5)"
   ]
  },
  {
   "cell_type": "code",
   "execution_count": 35,
   "metadata": {},
   "outputs": [],
   "source": [
    "import tensorflow as tf"
   ]
  },
  {
   "cell_type": "code",
   "execution_count": 37,
   "metadata": {},
   "outputs": [
    {
     "data": {
      "text/plain": [
       "15"
      ]
     },
     "execution_count": 37,
     "metadata": {},
     "output_type": "execute_result"
    }
   ],
   "source": [
    "initial_value = tf.truncated_normal([10, 15], stddev=0.001)\n",
    "w = tf.Variable(initial_value, name=\"fc_w\")\n",
    "w.get_shape().as_list()[1]"
   ]
  },
  {
   "cell_type": "code",
   "execution_count": 38,
   "metadata": {},
   "outputs": [
    {
     "data": {
      "text/plain": [
       "0.5983981359704371"
      ]
     },
     "execution_count": 38,
     "metadata": {},
     "output_type": "execute_result"
    }
   ],
   "source": [
    "np.random.rand()"
   ]
  },
  {
   "cell_type": "code",
   "execution_count": 39,
   "metadata": {},
   "outputs": [
    {
     "name": "stdout",
     "output_type": "stream",
     "text": [
      "[x\t y\t w\t h\t a\t]\n"
     ]
    }
   ],
   "source": [
    "print(\"[x\\t y\\t w\\t h\\t a\\t]\")"
   ]
  },
  {
   "cell_type": "code",
   "execution_count": 40,
   "metadata": {},
   "outputs": [],
   "source": [
    "text = \"this/is/a/name\"\n",
    "if \"is\" not in text:\n",
    "    print(\"true\")"
   ]
  },
  {
   "cell_type": "code",
   "execution_count": 41,
   "metadata": {},
   "outputs": [],
   "source": [
    "fn = 'Original-data/ibdt/0/0in.bmp'\n",
    "data = open(fn, mode='rb').read()"
   ]
  },
  {
   "cell_type": "code",
   "execution_count": 44,
   "metadata": {},
   "outputs": [],
   "source": [
    "img = np.frombuffer(data, dtype=np.int8)"
   ]
  },
  {
   "cell_type": "code",
   "execution_count": 47,
   "metadata": {},
   "outputs": [
    {
     "ename": "ValueError",
     "evalue": "cannot reshape array of size 37942 into shape (192,192)",
     "output_type": "error",
     "traceback": [
      "\u001b[0;31m-------------------------------------------------------------------------\u001b[0m",
      "\u001b[0;31mValueError\u001b[0m                              Traceback (most recent call last)",
      "\u001b[0;32m<ipython-input-47-4ad8f2cd31b0>\u001b[0m in \u001b[0;36m<module>\u001b[0;34m()\u001b[0m\n\u001b[0;32m----> 1\u001b[0;31m \u001b[0mimg\u001b[0m \u001b[0;34m=\u001b[0m \u001b[0mnp\u001b[0m\u001b[0;34m.\u001b[0m\u001b[0mreshape\u001b[0m\u001b[0;34m(\u001b[0m\u001b[0mimg\u001b[0m\u001b[0;34m,\u001b[0m \u001b[0;34m(\u001b[0m\u001b[0;36m192\u001b[0m\u001b[0;34m,\u001b[0m\u001b[0;36m192\u001b[0m\u001b[0;34m)\u001b[0m\u001b[0;34m)\u001b[0m\u001b[0;34m\u001b[0m\u001b[0m\n\u001b[0m",
      "\u001b[0;32m~/.local/lib/python3.5/site-packages/numpy/core/fromnumeric.py\u001b[0m in \u001b[0;36mreshape\u001b[0;34m(a, newshape, order)\u001b[0m\n\u001b[1;32m    230\u001b[0m            [5, 6]])\n\u001b[1;32m    231\u001b[0m     \"\"\"\n\u001b[0;32m--> 232\u001b[0;31m     \u001b[0;32mreturn\u001b[0m \u001b[0m_wrapfunc\u001b[0m\u001b[0;34m(\u001b[0m\u001b[0ma\u001b[0m\u001b[0;34m,\u001b[0m \u001b[0;34m'reshape'\u001b[0m\u001b[0;34m,\u001b[0m \u001b[0mnewshape\u001b[0m\u001b[0;34m,\u001b[0m \u001b[0morder\u001b[0m\u001b[0;34m=\u001b[0m\u001b[0morder\u001b[0m\u001b[0;34m)\u001b[0m\u001b[0;34m\u001b[0m\u001b[0m\n\u001b[0m\u001b[1;32m    233\u001b[0m \u001b[0;34m\u001b[0m\u001b[0m\n\u001b[1;32m    234\u001b[0m \u001b[0;34m\u001b[0m\u001b[0m\n",
      "\u001b[0;32m~/.local/lib/python3.5/site-packages/numpy/core/fromnumeric.py\u001b[0m in \u001b[0;36m_wrapfunc\u001b[0;34m(obj, method, *args, **kwds)\u001b[0m\n\u001b[1;32m     55\u001b[0m \u001b[0;32mdef\u001b[0m \u001b[0m_wrapfunc\u001b[0m\u001b[0;34m(\u001b[0m\u001b[0mobj\u001b[0m\u001b[0;34m,\u001b[0m \u001b[0mmethod\u001b[0m\u001b[0;34m,\u001b[0m \u001b[0;34m*\u001b[0m\u001b[0margs\u001b[0m\u001b[0;34m,\u001b[0m \u001b[0;34m**\u001b[0m\u001b[0mkwds\u001b[0m\u001b[0;34m)\u001b[0m\u001b[0;34m:\u001b[0m\u001b[0;34m\u001b[0m\u001b[0m\n\u001b[1;32m     56\u001b[0m     \u001b[0;32mtry\u001b[0m\u001b[0;34m:\u001b[0m\u001b[0;34m\u001b[0m\u001b[0m\n\u001b[0;32m---> 57\u001b[0;31m         \u001b[0;32mreturn\u001b[0m \u001b[0mgetattr\u001b[0m\u001b[0;34m(\u001b[0m\u001b[0mobj\u001b[0m\u001b[0;34m,\u001b[0m \u001b[0mmethod\u001b[0m\u001b[0;34m)\u001b[0m\u001b[0;34m(\u001b[0m\u001b[0;34m*\u001b[0m\u001b[0margs\u001b[0m\u001b[0;34m,\u001b[0m \u001b[0;34m**\u001b[0m\u001b[0mkwds\u001b[0m\u001b[0;34m)\u001b[0m\u001b[0;34m\u001b[0m\u001b[0m\n\u001b[0m\u001b[1;32m     58\u001b[0m \u001b[0;34m\u001b[0m\u001b[0m\n\u001b[1;32m     59\u001b[0m     \u001b[0;31m# An AttributeError occurs if the object does not have\u001b[0m\u001b[0;34m\u001b[0m\u001b[0;34m\u001b[0m\u001b[0m\n",
      "\u001b[0;31mValueError\u001b[0m: cannot reshape array of size 37942 into shape (192,192)"
     ]
    }
   ],
   "source": [
    "img = np.reshape(img, (192,192))"
   ]
  },
  {
   "cell_type": "code",
   "execution_count": null,
   "metadata": {},
   "outputs": [],
   "source": []
  }
 ],
 "metadata": {
  "kernelspec": {
   "display_name": "Python 3",
   "language": "python",
   "name": "python3"
  },
  "language_info": {
   "codemirror_mode": {
    "name": "ipython",
    "version": 3
   },
   "file_extension": ".py",
   "mimetype": "text/x-python",
   "name": "python",
   "nbconvert_exporter": "python",
   "pygments_lexer": "ipython3",
   "version": "3.5.2"
  }
 },
 "nbformat": 4,
 "nbformat_minor": 2
}
